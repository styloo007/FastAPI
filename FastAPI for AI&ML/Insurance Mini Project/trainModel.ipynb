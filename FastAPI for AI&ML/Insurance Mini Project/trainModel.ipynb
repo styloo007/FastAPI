{
 "cells": [
  {
   "cell_type": "code",
   "execution_count": 2,
   "id": "3694d64b",
   "metadata": {},
   "outputs": [],
   "source": [
    "import pandas as pd \n",
    "import numpy as np\n",
    "from sklearn.ensemble import RandomForestClassifier\n",
    "from sklearn.model_selection import train_test_split\n",
    "from sklearn.preprocessing import OneHotEncoder\n",
    "from sklearn.pipeline import Pipeline\n",
    "from sklearn.compose import ColumnTransformer\n",
    "from sklearn.metrics import classification_report,accuracy_score"
   ]
  },
  {
   "cell_type": "code",
   "execution_count": 3,
   "id": "bce5ce3e",
   "metadata": {},
   "outputs": [],
   "source": [
    "df = pd.read_csv(\"insurance.csv\")"
   ]
  },
  {
   "cell_type": "code",
   "execution_count": 7,
   "id": "91437ef8",
   "metadata": {},
   "outputs": [
    {
     "data": {
      "text/html": [
       "<div>\n",
       "<style scoped>\n",
       "    .dataframe tbody tr th:only-of-type {\n",
       "        vertical-align: middle;\n",
       "    }\n",
       "\n",
       "    .dataframe tbody tr th {\n",
       "        vertical-align: top;\n",
       "    }\n",
       "\n",
       "    .dataframe thead th {\n",
       "        text-align: right;\n",
       "    }\n",
       "</style>\n",
       "<table border=\"1\" class=\"dataframe\">\n",
       "  <thead>\n",
       "    <tr style=\"text-align: right;\">\n",
       "      <th></th>\n",
       "      <th>age</th>\n",
       "      <th>weight</th>\n",
       "      <th>height</th>\n",
       "      <th>income_lpa</th>\n",
       "      <th>smoker</th>\n",
       "      <th>city</th>\n",
       "      <th>occupation</th>\n",
       "      <th>insurance_premium_category</th>\n",
       "    </tr>\n",
       "  </thead>\n",
       "  <tbody>\n",
       "    <tr>\n",
       "      <th>87</th>\n",
       "      <td>30</td>\n",
       "      <td>82.0</td>\n",
       "      <td>1.60</td>\n",
       "      <td>25.59837</td>\n",
       "      <td>False</td>\n",
       "      <td>Hyderabad</td>\n",
       "      <td>government_job</td>\n",
       "      <td>Low</td>\n",
       "    </tr>\n",
       "    <tr>\n",
       "      <th>71</th>\n",
       "      <td>38</td>\n",
       "      <td>54.1</td>\n",
       "      <td>1.81</td>\n",
       "      <td>20.25000</td>\n",
       "      <td>False</td>\n",
       "      <td>Chandigarh</td>\n",
       "      <td>unemployed</td>\n",
       "      <td>Low</td>\n",
       "    </tr>\n",
       "    <tr>\n",
       "      <th>64</th>\n",
       "      <td>71</td>\n",
       "      <td>117.8</td>\n",
       "      <td>1.78</td>\n",
       "      <td>1.02000</td>\n",
       "      <td>False</td>\n",
       "      <td>Chandigarh</td>\n",
       "      <td>retired</td>\n",
       "      <td>High</td>\n",
       "    </tr>\n",
       "    <tr>\n",
       "      <th>80</th>\n",
       "      <td>56</td>\n",
       "      <td>95.8</td>\n",
       "      <td>1.67</td>\n",
       "      <td>50.00000</td>\n",
       "      <td>False</td>\n",
       "      <td>Jalandhar</td>\n",
       "      <td>unemployed</td>\n",
       "      <td>High</td>\n",
       "    </tr>\n",
       "    <tr>\n",
       "      <th>25</th>\n",
       "      <td>59</td>\n",
       "      <td>60.2</td>\n",
       "      <td>1.55</td>\n",
       "      <td>30.00000</td>\n",
       "      <td>False</td>\n",
       "      <td>Mysore</td>\n",
       "      <td>government_job</td>\n",
       "      <td>Low</td>\n",
       "    </tr>\n",
       "  </tbody>\n",
       "</table>\n",
       "</div>"
      ],
      "text/plain": [
       "    age  weight  height  income_lpa  smoker        city      occupation  \\\n",
       "87   30    82.0    1.60    25.59837   False   Hyderabad  government_job   \n",
       "71   38    54.1    1.81    20.25000   False  Chandigarh      unemployed   \n",
       "64   71   117.8    1.78     1.02000   False  Chandigarh         retired   \n",
       "80   56    95.8    1.67    50.00000   False   Jalandhar      unemployed   \n",
       "25   59    60.2    1.55    30.00000   False      Mysore  government_job   \n",
       "\n",
       "   insurance_premium_category  \n",
       "87                        Low  \n",
       "71                        Low  \n",
       "64                       High  \n",
       "80                       High  \n",
       "25                        Low  "
      ]
     },
     "execution_count": 7,
     "metadata": {},
     "output_type": "execute_result"
    }
   ],
   "source": [
    "df.sample(5)"
   ]
  },
  {
   "cell_type": "code",
   "execution_count": 8,
   "id": "8e365017",
   "metadata": {},
   "outputs": [],
   "source": [
    "dfCopy = df.copy()"
   ]
  },
  {
   "cell_type": "code",
   "execution_count": 9,
   "id": "df0a1b10",
   "metadata": {},
   "outputs": [],
   "source": [
    "dfCopy[\"bmi\"] = dfCopy[\"weight\"]/(df[\"height\"]**2)"
   ]
  },
  {
   "cell_type": "code",
   "execution_count": 10,
   "id": "7060e4b7",
   "metadata": {},
   "outputs": [],
   "source": [
    "def ageGroup(age):\n",
    "    if age<25:\n",
    "        return \"young\"\n",
    "    elif age<45:\n",
    "        return \"intermediate\"\n",
    "    elif age<60:\n",
    "        return \"middle aged\"\n",
    "    else:\n",
    "        return \"senior citizen\"\n",
    " "
   ]
  },
  {
   "cell_type": "code",
   "execution_count": 11,
   "id": "b6ce3b52",
   "metadata": {},
   "outputs": [],
   "source": [
    "dfCopy[\"age group\"] = dfCopy[\"age\"].apply(ageGroup)"
   ]
  },
  {
   "cell_type": "code",
   "execution_count": 12,
   "id": "86feacb0",
   "metadata": {},
   "outputs": [],
   "source": [
    "def lifeStyleRisk(row):\n",
    "    if row[\"smoker\"] and row[\"bmi\"]>30:\n",
    "        return \"high\"\n",
    "    elif row[\"smoker\"] and row[\"bmi\"]>30:\n",
    "        return \"medium\"\n",
    "    else:\n",
    "        return \"low\"\n",
    "    "
   ]
  },
  {
   "cell_type": "code",
   "execution_count": 13,
   "id": "f4adde1b",
   "metadata": {},
   "outputs": [],
   "source": [
    "dfCopy[\"lifestyle risk\"] =  dfCopy.apply(lifeStyleRisk, axis=1)"
   ]
  },
  {
   "cell_type": "code",
   "execution_count": null,
   "id": "83c50deb",
   "metadata": {},
   "outputs": [],
   "source": [
    "tier1Cities = [\n",
    "    \"Bangalore\",\n",
    "    \"Chennai\", \n",
    "    \"Delhi\",\n",
    "    \"Hyderabad\",\n",
    "    \"Kolkata\",\n",
    "    \"Mumbai\",\n",
    "    \"Ahmedabad\",\n",
    "    \"Pune\"\n",
    "]\n",
    "\n",
    "tier2Cities = [\n",
    "    \"Agra\", \"Aligarh\", \"Allahabad\", \"Amravati\", \"Amritsar\", \"Asansol\", \n",
    "    \"Aurangabad\", \"Bareilly\", \"Belgaum\", \"Bellary\", \"Bhavnagar\", \"Bhopal\", \n",
    "    \"Bhubaneswar\", \"Bhiwandi\", \"Bikaner\", \"Bokaro Steel City\", \"Chandigarh\", \n",
    "    \"Coimbatore\", \"Cuttack\", \"Dehradun\", \"Dewas\", \"Dhanbad\", \"Durg-Bhilai\", \n",
    "    \"Faridabad\", \"Guntur\", \"Gurugram\", \"Guwahati\", \"Gwalior\", \"Hubli-Dharwad\", \n",
    "    \"Indore\", \"Jabalpur\", \"Jaipur\", \"Jalandhar\", \"Jamnagar\", \"Jamshedpur\", \n",
    "    \"Jammu\", \"Jodhpur\", \"Kanpur\", \"Karnal\", \"Kochi\", \"Kolhapur\", \n",
    "    \"Kozhikode\", \"Kota\", \"Lucknow\", \"Ludhiana\", \"Madurai\", \"Mangalore\", \n",
    "    \"Meerut\", \"Moradabad\", \"Mysore\", \"Nagpur\", \"Nashik\", \"Navi Mumbai\", \n",
    "    \"Nellore\", \"Noida\", \"Patna\", \"Pondicherry\", \"Pune\", \"Raipur\", \n",
    "    \"Rajkot\", \"Ranchi\", \"Ratlam\", \"Rewa\", \"Sagar\", \"Salem\", \"Satna\", \n",
    "    \"Shimla\", \"Shimoga\", \"Solapur\", \"Srinagar\", \"Surat\", \"Thane\", \n",
    "    \"Thiruvananthapuram\", \"Tiruchirappalli\", \"Tirupati\", \"Tiruppur\", \n",
    "    \"Ujjain\", \"Vadodara\", \"Varanasi\", \"Vasai-Virar\", \"Vellore\", \n",
    "    \"Vijayawada\", \"Visakhapatnam\", \"Warangal\"\n",
    "]\n"
   ]
  }
 ],
 "metadata": {
  "kernelspec": {
   "display_name": "Python 3",
   "language": "python",
   "name": "python3"
  },
  "language_info": {
   "codemirror_mode": {
    "name": "ipython",
    "version": 3
   },
   "file_extension": ".py",
   "mimetype": "text/x-python",
   "name": "python",
   "nbconvert_exporter": "python",
   "pygments_lexer": "ipython3",
   "version": "3.10.6"
  }
 },
 "nbformat": 4,
 "nbformat_minor": 5
}
